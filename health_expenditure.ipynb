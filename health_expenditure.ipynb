{
 "cells": [
  {
   "cell_type": "code",
   "execution_count": 1,
   "source": [
    "import pandas as pd\n",
    "import numpy as py\n",
    "health_expenditure = pd.read_csv (r'/Users/abdullahwaraich/Downloads/healthexpenditurebyareaandsource.csv')\n",
    "health_expenditure\n"
   ],
   "outputs": [
    {
     "output_type": "execute_result",
     "data": {
      "text/html": [
       "<div>\n",
       "<style scoped>\n",
       "    .dataframe tbody tr th:only-of-type {\n",
       "        vertical-align: middle;\n",
       "    }\n",
       "\n",
       "    .dataframe tbody tr th {\n",
       "        vertical-align: top;\n",
       "    }\n",
       "\n",
       "    .dataframe thead th {\n",
       "        text-align: right;\n",
       "    }\n",
       "</style>\n",
       "<table border=\"1\" class=\"dataframe\">\n",
       "  <thead>\n",
       "    <tr style=\"text-align: right;\">\n",
       "      <th></th>\n",
       "      <th>financial_year</th>\n",
       "      <th>state</th>\n",
       "      <th>area_of_expenditure</th>\n",
       "      <th>broad_source_of_funding</th>\n",
       "      <th>detailed_source_of_funding</th>\n",
       "      <th>real_expenditure_millions</th>\n",
       "    </tr>\n",
       "  </thead>\n",
       "  <tbody>\n",
       "    <tr>\n",
       "      <th>0</th>\n",
       "      <td>1997-98</td>\n",
       "      <td>NSW</td>\n",
       "      <td>Administration</td>\n",
       "      <td>Government</td>\n",
       "      <td>Australian Government</td>\n",
       "      <td>315.0</td>\n",
       "    </tr>\n",
       "    <tr>\n",
       "      <th>1</th>\n",
       "      <td>1997-98</td>\n",
       "      <td>NSW</td>\n",
       "      <td>Administration</td>\n",
       "      <td>Government</td>\n",
       "      <td>State and local</td>\n",
       "      <td>120.0</td>\n",
       "    </tr>\n",
       "    <tr>\n",
       "      <th>2</th>\n",
       "      <td>1997-98</td>\n",
       "      <td>NSW</td>\n",
       "      <td>Administration</td>\n",
       "      <td>Non-government</td>\n",
       "      <td>Private health insurance funds</td>\n",
       "      <td>314.0</td>\n",
       "    </tr>\n",
       "    <tr>\n",
       "      <th>3</th>\n",
       "      <td>1997-98</td>\n",
       "      <td>NSW</td>\n",
       "      <td>Aids and appliances</td>\n",
       "      <td>Government</td>\n",
       "      <td>Australian Government</td>\n",
       "      <td>65.0</td>\n",
       "    </tr>\n",
       "    <tr>\n",
       "      <th>4</th>\n",
       "      <td>1997-98</td>\n",
       "      <td>NSW</td>\n",
       "      <td>Aids and appliances</td>\n",
       "      <td>Non-government</td>\n",
       "      <td>Individuals</td>\n",
       "      <td>168.0</td>\n",
       "    </tr>\n",
       "    <tr>\n",
       "      <th>...</th>\n",
       "      <td>...</td>\n",
       "      <td>...</td>\n",
       "      <td>...</td>\n",
       "      <td>...</td>\n",
       "      <td>...</td>\n",
       "      <td>...</td>\n",
       "    </tr>\n",
       "    <tr>\n",
       "      <th>7095</th>\n",
       "      <td>NaN</td>\n",
       "      <td>NaN</td>\n",
       "      <td>NaN</td>\n",
       "      <td>NaN</td>\n",
       "      <td>NaN</td>\n",
       "      <td>NaN</td>\n",
       "    </tr>\n",
       "    <tr>\n",
       "      <th>7096</th>\n",
       "      <td>NaN</td>\n",
       "      <td>NaN</td>\n",
       "      <td>NaN</td>\n",
       "      <td>NaN</td>\n",
       "      <td>NaN</td>\n",
       "      <td>NaN</td>\n",
       "    </tr>\n",
       "    <tr>\n",
       "      <th>7097</th>\n",
       "      <td>NaN</td>\n",
       "      <td>NaN</td>\n",
       "      <td>NaN</td>\n",
       "      <td>NaN</td>\n",
       "      <td>NaN</td>\n",
       "      <td>NaN</td>\n",
       "    </tr>\n",
       "    <tr>\n",
       "      <th>7098</th>\n",
       "      <td>NaN</td>\n",
       "      <td>NaN</td>\n",
       "      <td>NaN</td>\n",
       "      <td>NaN</td>\n",
       "      <td>NaN</td>\n",
       "      <td>NaN</td>\n",
       "    </tr>\n",
       "    <tr>\n",
       "      <th>7099</th>\n",
       "      <td>NaN</td>\n",
       "      <td>NaN</td>\n",
       "      <td>NaN</td>\n",
       "      <td>NaN</td>\n",
       "      <td>NaN</td>\n",
       "      <td>NaN</td>\n",
       "    </tr>\n",
       "  </tbody>\n",
       "</table>\n",
       "<p>7100 rows × 6 columns</p>\n",
       "</div>"
      ],
      "text/plain": [
       "     financial_year state  area_of_expenditure broad_source_of_funding  \\\n",
       "0           1997-98   NSW       Administration              Government   \n",
       "1           1997-98   NSW       Administration              Government   \n",
       "2           1997-98   NSW       Administration          Non-government   \n",
       "3           1997-98   NSW  Aids and appliances              Government   \n",
       "4           1997-98   NSW  Aids and appliances          Non-government   \n",
       "...             ...   ...                  ...                     ...   \n",
       "7095            NaN   NaN                  NaN                     NaN   \n",
       "7096            NaN   NaN                  NaN                     NaN   \n",
       "7097            NaN   NaN                  NaN                     NaN   \n",
       "7098            NaN   NaN                  NaN                     NaN   \n",
       "7099            NaN   NaN                  NaN                     NaN   \n",
       "\n",
       "          detailed_source_of_funding  real_expenditure_millions  \n",
       "0              Australian Government                      315.0  \n",
       "1                    State and local                      120.0  \n",
       "2     Private health insurance funds                      314.0  \n",
       "3              Australian Government                       65.0  \n",
       "4                        Individuals                      168.0  \n",
       "...                              ...                        ...  \n",
       "7095                             NaN                        NaN  \n",
       "7096                             NaN                        NaN  \n",
       "7097                             NaN                        NaN  \n",
       "7098                             NaN                        NaN  \n",
       "7099                             NaN                        NaN  \n",
       "\n",
       "[7100 rows x 6 columns]"
      ]
     },
     "metadata": {},
     "execution_count": 1
    }
   ],
   "metadata": {}
  },
  {
   "cell_type": "code",
   "execution_count": 2,
   "source": [
    "health_expenditure.describe()\n",
    "health_expenditure_by_state = health_expenditure.groupby(['state']).real_expenditure_millions.sum()\n",
    "health_expenditure_by_state\n",
    "\n",
    "\n"
   ],
   "outputs": [
    {
     "output_type": "execute_result",
     "data": {
      "text/plain": [
       "state\n",
       "ACT     28260.0\n",
       "NSW    482366.0\n",
       "NT      18915.0\n",
       "QLD    289676.0\n",
       "SA     114623.0\n",
       "TAS     34294.0\n",
       "VIC    360217.0\n",
       "WA     149887.0\n",
       "Name: real_expenditure_millions, dtype: float64"
      ]
     },
     "metadata": {},
     "execution_count": 2
    }
   ],
   "metadata": {}
  },
  {
   "cell_type": "code",
   "execution_count": 3,
   "source": [
    "health_expenditure_by_state.sum()\n",
    "health_expenditure_total = health_expenditure_by_state.sum()"
   ],
   "outputs": [],
   "metadata": {}
  },
  {
   "cell_type": "markdown",
   "source": [
    "Summarised above is the total expenditure for health by all states from 1997 to 2012 (financial years)\n",
    "Now, the goal is to determine what each state spent the most on and whether or not it was government or non government funding. So basically just looking for area of expenditure and where the funding is coming from. "
   ],
   "metadata": {}
  },
  {
   "cell_type": "code",
   "execution_count": 4,
   "source": [
    "health_expenditure_funding = health_expenditure.groupby(['state', 'area_of_expenditure', 'broad_source_of_funding'])\n",
    "health_expenditure_funding.head()\n",
    "\n"
   ],
   "outputs": [
    {
     "output_type": "execute_result",
     "data": {
      "text/html": [
       "<div>\n",
       "<style scoped>\n",
       "    .dataframe tbody tr th:only-of-type {\n",
       "        vertical-align: middle;\n",
       "    }\n",
       "\n",
       "    .dataframe tbody tr th {\n",
       "        vertical-align: top;\n",
       "    }\n",
       "\n",
       "    .dataframe thead th {\n",
       "        text-align: right;\n",
       "    }\n",
       "</style>\n",
       "<table border=\"1\" class=\"dataframe\">\n",
       "  <thead>\n",
       "    <tr style=\"text-align: right;\">\n",
       "      <th></th>\n",
       "      <th>financial_year</th>\n",
       "      <th>state</th>\n",
       "      <th>area_of_expenditure</th>\n",
       "      <th>broad_source_of_funding</th>\n",
       "      <th>detailed_source_of_funding</th>\n",
       "      <th>real_expenditure_millions</th>\n",
       "    </tr>\n",
       "  </thead>\n",
       "  <tbody>\n",
       "    <tr>\n",
       "      <th>0</th>\n",
       "      <td>1997-98</td>\n",
       "      <td>NSW</td>\n",
       "      <td>Administration</td>\n",
       "      <td>Government</td>\n",
       "      <td>Australian Government</td>\n",
       "      <td>315.0</td>\n",
       "    </tr>\n",
       "    <tr>\n",
       "      <th>1</th>\n",
       "      <td>1997-98</td>\n",
       "      <td>NSW</td>\n",
       "      <td>Administration</td>\n",
       "      <td>Government</td>\n",
       "      <td>State and local</td>\n",
       "      <td>120.0</td>\n",
       "    </tr>\n",
       "    <tr>\n",
       "      <th>2</th>\n",
       "      <td>1997-98</td>\n",
       "      <td>NSW</td>\n",
       "      <td>Administration</td>\n",
       "      <td>Non-government</td>\n",
       "      <td>Private health insurance funds</td>\n",
       "      <td>314.0</td>\n",
       "    </tr>\n",
       "    <tr>\n",
       "      <th>3</th>\n",
       "      <td>1997-98</td>\n",
       "      <td>NSW</td>\n",
       "      <td>Aids and appliances</td>\n",
       "      <td>Government</td>\n",
       "      <td>Australian Government</td>\n",
       "      <td>65.0</td>\n",
       "    </tr>\n",
       "    <tr>\n",
       "      <th>4</th>\n",
       "      <td>1997-98</td>\n",
       "      <td>NSW</td>\n",
       "      <td>Aids and appliances</td>\n",
       "      <td>Non-government</td>\n",
       "      <td>Individuals</td>\n",
       "      <td>168.0</td>\n",
       "    </tr>\n",
       "    <tr>\n",
       "      <th>...</th>\n",
       "      <td>...</td>\n",
       "      <td>...</td>\n",
       "      <td>...</td>\n",
       "      <td>...</td>\n",
       "      <td>...</td>\n",
       "      <td>...</td>\n",
       "    </tr>\n",
       "    <tr>\n",
       "      <th>6778</th>\n",
       "      <td>NaN</td>\n",
       "      <td>NaN</td>\n",
       "      <td>NaN</td>\n",
       "      <td>NaN</td>\n",
       "      <td>NaN</td>\n",
       "      <td>NaN</td>\n",
       "    </tr>\n",
       "    <tr>\n",
       "      <th>6779</th>\n",
       "      <td>NaN</td>\n",
       "      <td>NaN</td>\n",
       "      <td>NaN</td>\n",
       "      <td>NaN</td>\n",
       "      <td>NaN</td>\n",
       "      <td>NaN</td>\n",
       "    </tr>\n",
       "    <tr>\n",
       "      <th>6780</th>\n",
       "      <td>NaN</td>\n",
       "      <td>NaN</td>\n",
       "      <td>NaN</td>\n",
       "      <td>NaN</td>\n",
       "      <td>NaN</td>\n",
       "      <td>NaN</td>\n",
       "    </tr>\n",
       "    <tr>\n",
       "      <th>6781</th>\n",
       "      <td>NaN</td>\n",
       "      <td>NaN</td>\n",
       "      <td>NaN</td>\n",
       "      <td>NaN</td>\n",
       "      <td>NaN</td>\n",
       "      <td>NaN</td>\n",
       "    </tr>\n",
       "    <tr>\n",
       "      <th>6782</th>\n",
       "      <td>NaN</td>\n",
       "      <td>NaN</td>\n",
       "      <td>NaN</td>\n",
       "      <td>NaN</td>\n",
       "      <td>NaN</td>\n",
       "      <td>NaN</td>\n",
       "    </tr>\n",
       "  </tbody>\n",
       "</table>\n",
       "<p>1205 rows × 6 columns</p>\n",
       "</div>"
      ],
      "text/plain": [
       "     financial_year state  area_of_expenditure broad_source_of_funding  \\\n",
       "0           1997-98   NSW       Administration              Government   \n",
       "1           1997-98   NSW       Administration              Government   \n",
       "2           1997-98   NSW       Administration          Non-government   \n",
       "3           1997-98   NSW  Aids and appliances              Government   \n",
       "4           1997-98   NSW  Aids and appliances          Non-government   \n",
       "...             ...   ...                  ...                     ...   \n",
       "6778            NaN   NaN                  NaN                     NaN   \n",
       "6779            NaN   NaN                  NaN                     NaN   \n",
       "6780            NaN   NaN                  NaN                     NaN   \n",
       "6781            NaN   NaN                  NaN                     NaN   \n",
       "6782            NaN   NaN                  NaN                     NaN   \n",
       "\n",
       "          detailed_source_of_funding  real_expenditure_millions  \n",
       "0              Australian Government                      315.0  \n",
       "1                    State and local                      120.0  \n",
       "2     Private health insurance funds                      314.0  \n",
       "3              Australian Government                       65.0  \n",
       "4                        Individuals                      168.0  \n",
       "...                              ...                        ...  \n",
       "6778                             NaN                        NaN  \n",
       "6779                             NaN                        NaN  \n",
       "6780                             NaN                        NaN  \n",
       "6781                             NaN                        NaN  \n",
       "6782                             NaN                        NaN  \n",
       "\n",
       "[1205 rows x 6 columns]"
      ]
     },
     "metadata": {},
     "execution_count": 4
    }
   ],
   "metadata": {}
  },
  {
   "cell_type": "code",
   "execution_count": 5,
   "source": [
    "health_expenditure_areas = health_expenditure.groupby(['state','area_of_expenditure']).real_expenditure_millions.sum()\n",
    "health_expenditure_areas['VIC']"
   ],
   "outputs": [
    {
     "output_type": "execute_result",
     "data": {
      "text/plain": [
       "area_of_expenditure\n",
       "Administration                    7935.0\n",
       "Aids and appliances              10298.0\n",
       "All other medications            18573.0\n",
       "Benefit-paid pharmaceuticals     25903.0\n",
       "Capital expenditure              14903.0\n",
       "Community health                 11702.0\n",
       "Dental services                  26996.0\n",
       "Medical expense tax rebate           0.0\n",
       "Medical services                 66086.0\n",
       "Other health practitioners       15492.0\n",
       "Patient transport services        6380.0\n",
       "Private hospitals                30321.0\n",
       "Public health                     6278.0\n",
       "Public hospitals                106195.0\n",
       "Research                         13155.0\n",
       "Name: real_expenditure_millions, dtype: float64"
      ]
     },
     "metadata": {},
     "execution_count": 5
    }
   ],
   "metadata": {}
  },
  {
   "cell_type": "markdown",
   "source": [
    "Above is some code that will allow you to determine the spending (in millions) for different categories (areas) of spending. "
   ],
   "metadata": {}
  },
  {
   "cell_type": "code",
   "execution_count": 6,
   "source": [
    "health_expenditure_areas = health_expenditure.groupby(['state','detailed_source_of_funding']).real_expenditure_millions.sum()\n",
    "health_expenditure_vic = health_expenditure_areas['VIC'].sum()\n",
    "health_expenditure_vic\n"
   ],
   "outputs": [
    {
     "output_type": "execute_result",
     "data": {
      "text/plain": [
       "360217.0"
      ]
     },
     "metadata": {},
     "execution_count": 6
    }
   ],
   "metadata": {}
  },
  {
   "cell_type": "markdown",
   "source": [
    "This is the amount, in millions, that VIC spent on health in the designated period. Although, the Public Hospitals Expenditure seems a bit suspicious given that the other ones are relatively close to it. "
   ],
   "metadata": {}
  },
  {
   "cell_type": "code",
   "execution_count": 7,
   "source": [
    "a = int(health_expenditure_vic)\n",
    "b = int(health_expenditure_total)\n",
    "c = round (a/b,4)\n",
    "print(c)\n",
    "print(str(c*100)+'%')\n"
   ],
   "outputs": [
    {
     "output_type": "stream",
     "name": "stdout",
     "text": [
      "0.2437\n",
      "24.37%\n"
     ]
    }
   ],
   "metadata": {}
  },
  {
   "cell_type": "markdown",
   "source": [
    "The above suggests that VIC makes up 24.37% of all government spending on Health. The next step is now to save all of this as a function, so that instead of having to calculate all of this individually, it can all be calculated by calling a single function, eg. calling spending_by('NSW') to determine the percentage of government spending on health by NSW. \n",
    "The required features are that: \n",
    "a. having health_expenditure_areas (as we are targetting detailed sources of funding at the moment) and then calculating its sum. \n",
    "b. Dividing this sum by the total, and from there calculating the % of all government spending. \n",
    "Let's see how this goes!"
   ],
   "metadata": {}
  },
  {
   "cell_type": "code",
   "execution_count": null,
   "source": [],
   "outputs": [],
   "metadata": {}
  },
  {
   "cell_type": "code",
   "execution_count": 8,
   "source": [
    "#I will use this to store the actual function and the code below to see if it works.\n",
    "\n",
    "def spending_by(state): \n",
    "    health_expenditure_areas = health_expenditure.groupby(['state','detailed_source_of_funding']).real_expenditure_millions.sum()\n",
    "    health_expenditure_state = health_expenditure_areas[str(state)].sum()\n",
    "    health_expenditure_state\n",
    "    a = int(health_expenditure_state)\n",
    "    b = int(health_expenditure_total)\n",
    "    c = round (a/b,4)\n",
    "    print(c)\n",
    "    print(str(c*100)+'%')\n",
    "    \n"
   ],
   "outputs": [],
   "metadata": {}
  },
  {
   "cell_type": "markdown",
   "source": [],
   "metadata": {}
  },
  {
   "cell_type": "code",
   "execution_count": 9,
   "source": [
    "state = input('What state do you want?') #This will ask for an input (what state?), from there it let's you calculate what percentage of spending is by that particular state.\n",
    "spending_by(state) "
   ],
   "outputs": [
    {
     "output_type": "stream",
     "name": "stdout",
     "text": [
      "0.3263\n",
      "32.629999999999995%\n"
     ]
    }
   ],
   "metadata": {}
  },
  {
   "cell_type": "markdown",
   "source": [
    "So, this tells us that the total percentage of all government spending on Health was 32.62999....% by NSW. This seems quite reasonable, given that NSW has the largest population. We can also use the same function to calculate how much spending by other states. But the fact that we define the variable inside the function can spell trouble, so we will need to fix that later. "
   ],
   "metadata": {}
  },
  {
   "cell_type": "code",
   "execution_count": 10,
   "source": [
    "health_expenditure_areas = health_expenditure.groupby(['state','detailed_source_of_funding']).real_expenditure_millions.sum()\n",
    "health_expenditure_state = health_expenditure_areas['VIC'].sum()   #This is for VIC. \n",
    "health_expenditure_state\n",
    "a = int(health_expenditure_state)\n",
    "b = int(health_expenditure_total)\n",
    "c = round (a/b,4)\n",
    "print(c)\n",
    "print(str(c*100)+'%')\n",
    "#Now, we don't really need to use this much code to calculate the percentages, we can just use the function that was defined earlier."
   ],
   "outputs": [
    {
     "output_type": "stream",
     "name": "stdout",
     "text": [
      "0.2437\n",
      "24.37%\n"
     ]
    }
   ],
   "metadata": {}
  }
 ],
 "metadata": {
  "orig_nbformat": 4,
  "language_info": {
   "name": "python",
   "version": "3.8.8",
   "mimetype": "text/x-python",
   "codemirror_mode": {
    "name": "ipython",
    "version": 3
   },
   "pygments_lexer": "ipython3",
   "nbconvert_exporter": "python",
   "file_extension": ".py"
  },
  "kernelspec": {
   "name": "python3",
   "display_name": "Python 3.8.8 64-bit ('base': conda)"
  },
  "interpreter": {
   "hash": "0a973c6a10ef4d7620bb6dcaf1899fc0309b323b654f4d3e52ccae7164b0fd94"
  }
 },
 "nbformat": 4,
 "nbformat_minor": 2
}